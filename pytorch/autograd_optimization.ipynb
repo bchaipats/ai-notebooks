{
 "cells": [
  {
   "cell_type": "code",
   "execution_count": 1,
   "id": "9026a4f0",
   "metadata": {},
   "outputs": [],
   "source": [
    "import torch\n",
    "\n",
    "x = torch.ones(5)\n",
    "y = torch.zeros(3)\n",
    "w = torch.randn(5, 3, requires_grad=True)\n",
    "b = torch.randn(3, requires_grad=True)\n",
    "z = torch.matmul(x, w) + b\n",
    "loss = torch.nn.functional.binary_cross_entropy_with_logits(z, y)"
   ]
  },
  {
   "cell_type": "code",
   "execution_count": 2,
   "id": "424b5b69",
   "metadata": {},
   "outputs": [
    {
     "name": "stdout",
     "output_type": "stream",
     "text": [
      "Gradient function for z = <AddBackward0 object at 0x7fad52dadf90>\n",
      "Gradient function for loss = <BinaryCrossEntropyWithLogitsBackward0 object at 0x7fad5318b820>\n"
     ]
    }
   ],
   "source": [
    "print(f\"Gradient function for z = {z.grad_fn}\")\n",
    "print(f\"Gradient function for loss = {loss.grad_fn}\")"
   ]
  },
  {
   "cell_type": "code",
   "execution_count": 3,
   "id": "d171dbae",
   "metadata": {},
   "outputs": [
    {
     "name": "stdout",
     "output_type": "stream",
     "text": [
      "tensor([[0.2993, 0.2859, 0.3126],\n",
      "        [0.2993, 0.2859, 0.3126],\n",
      "        [0.2993, 0.2859, 0.3126],\n",
      "        [0.2993, 0.2859, 0.3126],\n",
      "        [0.2993, 0.2859, 0.3126]])\n",
      "tensor([0.2993, 0.2859, 0.3126])\n"
     ]
    }
   ],
   "source": [
    "loss.backward()\n",
    "print(w.grad)\n",
    "print(b.grad)"
   ]
  },
  {
   "cell_type": "code",
   "execution_count": 4,
   "id": "62ac035d",
   "metadata": {},
   "outputs": [
    {
     "name": "stdout",
     "output_type": "stream",
     "text": [
      "True\n",
      "False\n"
     ]
    }
   ],
   "source": [
    "z = torch.matmul(x, w)+b\n",
    "print(z.requires_grad)\n",
    "\n",
    "with torch.no_grad():\n",
    "    z = torch.matmul(x, w)+b\n",
    "print(z.requires_grad)"
   ]
  },
  {
   "cell_type": "code",
   "execution_count": 5,
   "id": "0d617930",
   "metadata": {},
   "outputs": [
    {
     "name": "stdout",
     "output_type": "stream",
     "text": [
      "False\n"
     ]
    }
   ],
   "source": [
    "z = torch.matmul(x, w)+b\n",
    "z_det = z.detach()\n",
    "print(z_det.requires_grad)"
   ]
  },
  {
   "cell_type": "code",
   "execution_count": 6,
   "id": "30a51814",
   "metadata": {},
   "outputs": [],
   "source": [
    "import torch\n",
    "from torch import nn\n",
    "from torch.utils.data import DataLoader\n",
    "from torchvision import datasets\n",
    "from torchvision.transforms import ToTensor\n",
    "\n",
    "training_data = datasets.FashionMNIST(\n",
    "    root=\"data\",\n",
    "    train=True,\n",
    "    download=True,\n",
    "    transform=ToTensor()\n",
    ")\n",
    "\n",
    "test_data = datasets.FashionMNIST(\n",
    "    root=\"data\",\n",
    "    train=False,\n",
    "    download=True,\n",
    "    transform=ToTensor()\n",
    ")\n",
    "\n",
    "train_dataloader = DataLoader(training_data, batch_size=64)\n",
    "test_dataloader = DataLoader(test_data, batch_size=64)\n",
    "\n",
    "class NeuralNetwork(nn.Module):\n",
    "    def __init__(self):\n",
    "        super(NeuralNetwork, self).__init__()\n",
    "        self.flatten = nn.Flatten()\n",
    "        self.linear_relu_stack = nn.Sequential(\n",
    "            nn.Linear(28*28, 512),\n",
    "            nn.ReLU(),\n",
    "            nn.Linear(512, 512),\n",
    "            nn.ReLU(),\n",
    "            nn.Linear(512, 10),\n",
    "        )\n",
    "\n",
    "    def forward(self, x):\n",
    "        x = self.flatten(x)\n",
    "        logits = self.linear_relu_stack(x)\n",
    "        return logits\n",
    "\n",
    "model = NeuralNetwork()"
   ]
  },
  {
   "cell_type": "code",
   "execution_count": 7,
   "id": "82439d6c",
   "metadata": {},
   "outputs": [],
   "source": [
    "learning_rate = 1e-3\n",
    "batch_size = 64\n",
    "epochs = 5"
   ]
  },
  {
   "cell_type": "code",
   "execution_count": 8,
   "id": "4483befc",
   "metadata": {},
   "outputs": [],
   "source": [
    "# Initialize the loss function\n",
    "loss_fn = nn.CrossEntropyLoss()"
   ]
  },
  {
   "cell_type": "code",
   "execution_count": 9,
   "id": "28934f08",
   "metadata": {},
   "outputs": [],
   "source": [
    "optimizer = torch.optim.SGD(model.parameters(), lr=learning_rate)"
   ]
  },
  {
   "cell_type": "code",
   "execution_count": 10,
   "id": "ea450bed",
   "metadata": {},
   "outputs": [],
   "source": [
    "def train_loop(dataloader, model, loss_fn, optimizer):\n",
    "    size = len(dataloader.dataset)\n",
    "    for batch, (X, y) in enumerate(dataloader):\n",
    "        # Compute prediction and loss\n",
    "        pred = model(X)\n",
    "        loss = loss_fn(pred, y)\n",
    "\n",
    "        # Backpropagation\n",
    "        optimizer.zero_grad()\n",
    "        loss.backward()\n",
    "        optimizer.step()\n",
    "\n",
    "        if batch % 100 == 0:\n",
    "            loss, current = loss.item(), batch * len(X)\n",
    "            print(f\"loss: {loss:>7f}  [{current:>5d}/{size:>5d}]\")\n",
    "\n",
    "\n",
    "def test_loop(dataloader, model, loss_fn):\n",
    "    size = len(dataloader.dataset)\n",
    "    num_batches = len(dataloader)\n",
    "    test_loss, correct = 0, 0\n",
    "\n",
    "    with torch.no_grad():\n",
    "        for X, y in dataloader:\n",
    "            pred = model(X)\n",
    "            test_loss += loss_fn(pred, y).item()\n",
    "            correct += (pred.argmax(1) == y).type(torch.float).sum().item()\n",
    "\n",
    "    test_loss /= num_batches\n",
    "    correct /= size\n",
    "    print(f\"Test Error: \\n Accuracy: {(100*correct):>0.1f}%, Avg loss: {test_loss:>8f} \\n\")"
   ]
  },
  {
   "cell_type": "code",
   "execution_count": null,
   "id": "e8f3d604",
   "metadata": {},
   "outputs": [
    {
     "name": "stdout",
     "output_type": "stream",
     "text": [
      "Epoch 1\n",
      "-------------------------------\n",
      "loss: 2.300808  [    0/60000]\n",
      "loss: 2.293719  [ 6400/60000]\n",
      "loss: 2.271294  [12800/60000]\n",
      "loss: 2.274005  [19200/60000]\n",
      "loss: 2.265560  [25600/60000]\n",
      "loss: 2.223298  [32000/60000]\n",
      "loss: 2.243927  [38400/60000]\n",
      "loss: 2.208505  [44800/60000]\n",
      "loss: 2.205343  [51200/60000]\n",
      "loss: 2.179200  [57600/60000]\n",
      "Test Error: \n",
      " Accuracy: 34.8%, Avg loss: 2.172230 \n",
      "\n",
      "Epoch 2\n",
      "-------------------------------\n",
      "loss: 2.175321  [    0/60000]\n",
      "loss: 2.174171  [ 6400/60000]\n",
      "loss: 2.113389  [12800/60000]\n",
      "loss: 2.140952  [19200/60000]\n",
      "loss: 2.112135  [25600/60000]\n",
      "loss: 2.027094  [32000/60000]\n",
      "loss: 2.076331  [38400/60000]\n",
      "loss: 1.995318  [44800/60000]\n",
      "loss: 1.997340  [51200/60000]\n",
      "loss: 1.945535  [57600/60000]\n",
      "Test Error: \n",
      " Accuracy: 53.1%, Avg loss: 1.935125 \n",
      "\n",
      "Epoch 3\n",
      "-------------------------------\n",
      "loss: 1.949883  [    0/60000]\n",
      "loss: 1.938031  [ 6400/60000]\n",
      "loss: 1.820712  [12800/60000]\n",
      "loss: 1.877434  [19200/60000]\n",
      "loss: 1.794262  [25600/60000]\n",
      "loss: 1.707519  [32000/60000]\n",
      "loss: 1.753114  [38400/60000]\n",
      "loss: 1.639358  [44800/60000]\n",
      "loss: 1.661075  [51200/60000]\n",
      "loss: 1.574955  [57600/60000]\n",
      "Test Error: \n",
      " Accuracy: 59.6%, Avg loss: 1.577225 \n",
      "\n",
      "Epoch 4\n",
      "-------------------------------\n",
      "loss: 1.624645  [    0/60000]\n",
      "loss: 1.599462  [ 6400/60000]\n",
      "loss: 1.446252  [12800/60000]\n",
      "loss: 1.534313  [19200/60000]\n",
      "loss: 1.428062  [25600/60000]\n",
      "loss: 1.388776  [32000/60000]\n",
      "loss: 1.420654  [38400/60000]\n",
      "loss: 1.329201  [44800/60000]\n",
      "loss: 1.364771  [51200/60000]\n",
      "loss: 1.273950  [57600/60000]\n",
      "Test Error: \n",
      " Accuracy: 63.4%, Avg loss: 1.291861 \n",
      "\n",
      "Epoch 5\n",
      "-------------------------------\n",
      "loss: 1.356955  [    0/60000]\n",
      "loss: 1.339770  [ 6400/60000]\n",
      "loss: 1.176910  [12800/60000]\n",
      "loss: 1.294106  [19200/60000]\n",
      "loss: 1.180521  [25600/60000]\n",
      "loss: 1.177039  [32000/60000]\n",
      "loss: 1.210463  [38400/60000]\n",
      "loss: 1.135632  [44800/60000]\n",
      "loss: 1.175924  [51200/60000]\n",
      "loss: 1.097898  [57600/60000]\n",
      "Test Error: \n",
      " Accuracy: 64.9%, Avg loss: 1.112144 \n",
      "\n",
      "Epoch 6\n",
      "-------------------------------\n",
      "loss: 1.175453  [    0/60000]\n",
      "loss: 1.173064  [ 6400/60000]\n",
      "loss: 0.996748  [12800/60000]\n",
      "loss: 1.142770  [19200/60000]\n",
      "loss: 1.023471  [25600/60000]\n",
      "loss: 1.034124  [32000/60000]\n",
      "loss: 1.080515  [38400/60000]\n",
      "loss: 1.012226  [44800/60000]\n",
      "loss: 1.053018  [51200/60000]\n",
      "loss: 0.987491  [57600/60000]\n"
     ]
    }
   ],
   "source": [
    "loss_fn = nn.CrossEntropyLoss()\n",
    "optimizer = torch.optim.SGD(model.parameters(), lr=learning_rate)\n",
    "\n",
    "epochs = 10\n",
    "for t in range(epochs):\n",
    "    print(f\"Epoch {t+1}\\n-------------------------------\")\n",
    "    train_loop(train_dataloader, model, loss_fn, optimizer)\n",
    "    test_loop(test_dataloader, model, loss_fn)\n",
    "print(\"Done!\")"
   ]
  },
  {
   "cell_type": "code",
   "execution_count": null,
   "id": "d03a15a1",
   "metadata": {},
   "outputs": [],
   "source": []
  }
 ],
 "metadata": {
  "kernelspec": {
   "display_name": "Python 3 (ipykernel)",
   "language": "python",
   "name": "python3"
  },
  "language_info": {
   "codemirror_mode": {
    "name": "ipython",
    "version": 3
   },
   "file_extension": ".py",
   "mimetype": "text/x-python",
   "name": "python",
   "nbconvert_exporter": "python",
   "pygments_lexer": "ipython3",
   "version": "3.10.8"
  }
 },
 "nbformat": 4,
 "nbformat_minor": 5
}
