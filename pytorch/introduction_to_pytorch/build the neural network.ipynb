{
 "cells": [
  {
   "cell_type": "code",
   "execution_count": 1,
   "id": "db12de06",
   "metadata": {},
   "outputs": [],
   "source": [
    "import os\n",
    "import torch\n",
    "from torch import nn\n",
    "from torch.utils.data import DataLoader\n",
    "from torchvision import datasets, transforms"
   ]
  },
  {
   "cell_type": "code",
   "execution_count": 3,
   "id": "8b5243cf",
   "metadata": {},
   "outputs": [
    {
     "name": "stdout",
     "output_type": "stream",
     "text": [
      "cpu\n"
     ]
    }
   ],
   "source": [
    "device = 'cuda' if torch.cuda.is_available() else 'cpu'\n",
    "print(device)"
   ]
  },
  {
   "cell_type": "code",
   "execution_count": 4,
   "id": "1b663d91",
   "metadata": {},
   "outputs": [],
   "source": [
    "class NeuralNetwork(nn.Module):\n",
    "    def __init__(self):\n",
    "        super(NeuralNetwork, self).__init__()\n",
    "        self.flatten = nn.Flatten()\n",
    "        self.linear_relu_stack = nn.Sequential(\n",
    "            nn.Linear(28*28, 512),\n",
    "            nn.ReLU(),\n",
    "            nn.Linear(512, 512),\n",
    "            nn.ReLU(),\n",
    "            nn.Linear(512, 10),\n",
    "        )\n",
    "        \n",
    "    def forward(self, x):\n",
    "        x = self.flatten(x)\n",
    "        logits = self.linear_relu_stack(x)\n",
    "        return logits"
   ]
  },
  {
   "cell_type": "code",
   "execution_count": 5,
   "id": "08638b11",
   "metadata": {},
   "outputs": [
    {
     "name": "stdout",
     "output_type": "stream",
     "text": [
      "NeuralNetwork(\n",
      "  (flatten): Flatten(start_dim=1, end_dim=-1)\n",
      "  (linear_relu_stack): Sequential(\n",
      "    (0): Linear(in_features=784, out_features=512, bias=True)\n",
      "    (1): ReLU()\n",
      "    (2): Linear(in_features=512, out_features=512, bias=True)\n",
      "    (3): ReLU()\n",
      "    (4): Linear(in_features=512, out_features=10, bias=True)\n",
      "  )\n",
      ")\n"
     ]
    }
   ],
   "source": [
    "model = NeuralNetwork().to(device)\n",
    "print(model)"
   ]
  },
  {
   "cell_type": "code",
   "execution_count": 6,
   "id": "738689db",
   "metadata": {},
   "outputs": [
    {
     "name": "stdout",
     "output_type": "stream",
     "text": [
      "tensor([4])\n"
     ]
    }
   ],
   "source": [
    "X = torch.rand(1, 28, 28, device=device)\n",
    "logits = model(X)\n",
    "pred_probab = nn.Softmax(dim=1)(logits)\n",
    "y_pred = pred_probab.argmax(1)\n",
    "print(y_pred)"
   ]
  },
  {
   "cell_type": "code",
   "execution_count": 7,
   "id": "a50883d6",
   "metadata": {},
   "outputs": [
    {
     "name": "stdout",
     "output_type": "stream",
     "text": [
      "torch.Size([3, 28, 28])\n"
     ]
    }
   ],
   "source": [
    "input_image = torch.rand(3, 28, 28)\n",
    "print(input_image.size())"
   ]
  },
  {
   "cell_type": "code",
   "execution_count": 8,
   "id": "29c90b25",
   "metadata": {},
   "outputs": [
    {
     "name": "stdout",
     "output_type": "stream",
     "text": [
      "torch.Size([3, 784])\n"
     ]
    }
   ],
   "source": [
    "flatten = nn.Flatten()\n",
    "flat_image = flatten(input_image)\n",
    "print(flat_image.size())"
   ]
  },
  {
   "cell_type": "code",
   "execution_count": 9,
   "id": "463582be",
   "metadata": {},
   "outputs": [
    {
     "name": "stdout",
     "output_type": "stream",
     "text": [
      "torch.Size([3, 20])\n"
     ]
    }
   ],
   "source": [
    "layer1 = nn.Linear(in_features=28*28, out_features=20)\n",
    "hidden1 = layer1(flat_image)\n",
    "print(hidden1.size())"
   ]
  },
  {
   "cell_type": "code",
   "execution_count": 11,
   "id": "ff3a7d0a",
   "metadata": {},
   "outputs": [
    {
     "name": "stdout",
     "output_type": "stream",
     "text": [
      "Before ReLU\n",
      "tensor([[0.0000, 0.1162, 0.0000, 0.0000, 0.4347, 0.0000, 0.3176, 0.4540, 0.2190,\n",
      "         0.0000, 0.2596, 0.0000, 0.0953, 0.0000, 0.0000, 0.0000, 0.0000, 0.0000,\n",
      "         0.0000, 0.0000],\n",
      "        [0.0000, 0.0237, 0.0545, 0.2993, 0.2970, 0.0240, 0.3675, 0.6698, 0.0000,\n",
      "         0.0000, 0.3911, 0.0000, 0.3799, 0.0000, 0.0000, 0.0000, 0.0000, 0.2924,\n",
      "         0.0059, 0.0000],\n",
      "        [0.0000, 0.3763, 0.0690, 0.0000, 0.0025, 0.0723, 0.3793, 0.4816, 0.0000,\n",
      "         0.0000, 0.2668, 0.0000, 0.2711, 0.0000, 0.0000, 0.0000, 0.0000, 0.0360,\n",
      "         0.0000, 0.0946]], grad_fn=<ReluBackward0>)\n",
      "After ReLU\n",
      "tensor([[0.0000, 0.1162, 0.0000, 0.0000, 0.4347, 0.0000, 0.3176, 0.4540, 0.2190,\n",
      "         0.0000, 0.2596, 0.0000, 0.0953, 0.0000, 0.0000, 0.0000, 0.0000, 0.0000,\n",
      "         0.0000, 0.0000],\n",
      "        [0.0000, 0.0237, 0.0545, 0.2993, 0.2970, 0.0240, 0.3675, 0.6698, 0.0000,\n",
      "         0.0000, 0.3911, 0.0000, 0.3799, 0.0000, 0.0000, 0.0000, 0.0000, 0.2924,\n",
      "         0.0059, 0.0000],\n",
      "        [0.0000, 0.3763, 0.0690, 0.0000, 0.0025, 0.0723, 0.3793, 0.4816, 0.0000,\n",
      "         0.0000, 0.2668, 0.0000, 0.2711, 0.0000, 0.0000, 0.0000, 0.0000, 0.0360,\n",
      "         0.0000, 0.0946]], grad_fn=<ReluBackward0>)\n"
     ]
    }
   ],
   "source": [
    "print('Before ReLU')\n",
    "print(hidden1)\n",
    "hidden1 = nn.ReLU()(hidden1)\n",
    "print('After ReLU')\n",
    "print(hidden1)"
   ]
  },
  {
   "cell_type": "code",
   "execution_count": 12,
   "id": "53668d5b",
   "metadata": {},
   "outputs": [],
   "source": [
    "seq_modules = nn.Sequential(\n",
    "    flatten,\n",
    "    layer1,\n",
    "    nn.ReLU(),\n",
    "    nn.Linear(20, 10)\n",
    ")\n",
    "\n",
    "input_image = torch.rand(3, 28, 28)\n",
    "logits = seq_modules(input_image)"
   ]
  },
  {
   "cell_type": "code",
   "execution_count": 13,
   "id": "af78028c",
   "metadata": {},
   "outputs": [],
   "source": [
    "softmax = nn.Softmax(dim=1)\n",
    "pred_probab = softmax(logits)"
   ]
  },
  {
   "cell_type": "code",
   "execution_count": 16,
   "id": "a29f1c45",
   "metadata": {},
   "outputs": [
    {
     "name": "stdout",
     "output_type": "stream",
     "text": [
      "tensor([0.5327, 0.3482, 0.2960], grad_fn=<SumBackward1>)\n",
      "tensor([1.0000, 1.0000, 1.0000], grad_fn=<SumBackward1>)\n"
     ]
    }
   ],
   "source": [
    "print(logits.sum(axis=1))\n",
    "print(pred_probab.sum(axis=1))"
   ]
  },
  {
   "cell_type": "code",
   "execution_count": 20,
   "id": "a12aa0e4",
   "metadata": {},
   "outputs": [
    {
     "name": "stdout",
     "output_type": "stream",
     "text": [
      "linear_relu_stack.0.weight\n",
      "torch.Size([512, 784])\n",
      "tensor([[ 0.0200, -0.0305,  0.0089,  ...,  0.0304, -0.0170,  0.0225],\n",
      "        [-0.0159, -0.0151, -0.0259,  ..., -0.0289,  0.0086,  0.0014]],\n",
      "       grad_fn=<SliceBackward0>)\n",
      "--------------------\n",
      "linear_relu_stack.0.bias\n",
      "torch.Size([512])\n",
      "tensor([-0.0351,  0.0067], grad_fn=<SliceBackward0>)\n",
      "--------------------\n",
      "linear_relu_stack.2.weight\n",
      "torch.Size([512, 512])\n",
      "tensor([[ 0.0038,  0.0019,  0.0035,  ...,  0.0168, -0.0417,  0.0226],\n",
      "        [ 0.0124,  0.0315,  0.0306,  ...,  0.0213,  0.0362, -0.0399]],\n",
      "       grad_fn=<SliceBackward0>)\n",
      "--------------------\n",
      "linear_relu_stack.2.bias\n",
      "torch.Size([512])\n",
      "tensor([-0.0348,  0.0051], grad_fn=<SliceBackward0>)\n",
      "--------------------\n",
      "linear_relu_stack.4.weight\n",
      "torch.Size([10, 512])\n",
      "tensor([[-0.0071, -0.0158, -0.0189,  ...,  0.0038, -0.0341,  0.0154],\n",
      "        [-0.0125,  0.0253,  0.0297,  ...,  0.0078, -0.0159, -0.0392]],\n",
      "       grad_fn=<SliceBackward0>)\n",
      "--------------------\n",
      "linear_relu_stack.4.bias\n",
      "torch.Size([10])\n",
      "tensor([ 0.0325, -0.0189], grad_fn=<SliceBackward0>)\n",
      "--------------------\n"
     ]
    }
   ],
   "source": [
    "for name, param in model.named_parameters():\n",
    "    print(name)\n",
    "    print(param.size())\n",
    "    print(param[:2])\n",
    "    print('-' * 20)"
   ]
  },
  {
   "cell_type": "code",
   "execution_count": null,
   "id": "a6b4bdf1",
   "metadata": {},
   "outputs": [],
   "source": []
  }
 ],
 "metadata": {
  "kernelspec": {
   "display_name": "Python 3 (ipykernel)",
   "language": "python",
   "name": "python3"
  },
  "language_info": {
   "codemirror_mode": {
    "name": "ipython",
    "version": 3
   },
   "file_extension": ".py",
   "mimetype": "text/x-python",
   "name": "python",
   "nbconvert_exporter": "python",
   "pygments_lexer": "ipython3",
   "version": "3.10.5"
  }
 },
 "nbformat": 4,
 "nbformat_minor": 5
}
